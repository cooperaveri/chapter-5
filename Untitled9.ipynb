{
 "cells": [
  {
   "cell_type": "markdown",
   "id": "3e34586b-77bf-47e1-a02f-ecaed6e225c2",
   "metadata": {},
   "source": [
    "Chapter 5"
   ]
  },
  {
   "cell_type": "markdown",
   "id": "da6598c1-c089-4804-abad-1d7a1c70bc7a",
   "metadata": {},
   "source": [
    "# Algorithm Workbench 1, 6"
   ]
  },
  {
   "cell_type": "markdown",
   "id": "52f82ff3-575e-4857-baa2-396c0dafcf22",
   "metadata": {},
   "source": [
    "## 1. write a function named times_ten, function should accept an argument and display the product of its argument multiplied by 10"
   ]
  },
  {
   "cell_type": "markdown",
   "id": "24d369a6-a741-4be2-8371-94eec2ba0ef4",
   "metadata": {},
   "source": [
    "def times_ten(number):\n",
    "    result = number * 10\n",
    "    print(result)\n"
   ]
  },
  {
   "cell_type": "code",
   "execution_count": 11,
   "id": "f12ebf59-dea7-48d2-a290-4576b8b435e3",
   "metadata": {},
   "outputs": [
    {
     "ename": "SyntaxError",
     "evalue": "invalid syntax (1608990917.py, line 2)",
     "output_type": "error",
     "traceback": [
      "\u001b[0;36m  Cell \u001b[0;32mIn[11], line 2\u001b[0;36m\u001b[0m\n\u001b[0;31m    def times_ten(8):\u001b[0m\n\u001b[0m                  ^\u001b[0m\n\u001b[0;31mSyntaxError\u001b[0m\u001b[0;31m:\u001b[0m invalid syntax\n"
     ]
    }
   ],
   "source": [
    "# get number to be multiplied by 10\n",
    "def times_ten(8):\n",
    "    result = number * 10\n",
    "    # show results\n",
    "    print(result)\n"
   ]
  },
  {
   "cell_type": "code",
   "execution_count": null,
   "id": "27fbc5d9-3345-4fa6-967e-8e6854680757",
   "metadata": {},
   "outputs": [],
   "source": []
  }
 ],
 "metadata": {
  "kernelspec": {
   "display_name": "anaconda-panel-2023.05-py310",
   "language": "python",
   "name": "conda-env-anaconda-panel-2023.05-py310-py"
  },
  "language_info": {
   "codemirror_mode": {
    "name": "ipython",
    "version": 3
   },
   "file_extension": ".py",
   "mimetype": "text/x-python",
   "name": "python",
   "nbconvert_exporter": "python",
   "pygments_lexer": "ipython3",
   "version": "3.11.4"
  }
 },
 "nbformat": 4,
 "nbformat_minor": 5
}
