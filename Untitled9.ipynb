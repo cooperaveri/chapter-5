{
 "cells": [
  {
   "cell_type": "markdown",
   "id": "3e34586b-77bf-47e1-a02f-ecaed6e225c2",
   "metadata": {},
   "source": [
    "Chapter 5"
   ]
  },
  {
   "cell_type": "markdown",
   "id": "da6598c1-c089-4804-abad-1d7a1c70bc7a",
   "metadata": {},
   "source": [
    "# Algorithm Workbench 1, 6"
   ]
  },
  {
   "cell_type": "markdown",
   "id": "52f82ff3-575e-4857-baa2-396c0dafcf22",
   "metadata": {},
   "source": [
    "## 1. write a function named times_ten, function should accept an argument and display the product of its argument multiplied by 10"
   ]
  },
  {
   "cell_type": "markdown",
   "id": "24d369a6-a741-4be2-8371-94eec2ba0ef4",
   "metadata": {},
   "source": [
    "def times_ten(number):\n",
    "    result = number * 10\n",
    "    print(result)\n"
   ]
  },
  {
   "cell_type": "code",
   "execution_count": 16,
   "id": "f12ebf59-dea7-48d2-a290-4576b8b435e3",
   "metadata": {},
   "outputs": [
    {
     "ename": "SyntaxError",
     "evalue": "invalid syntax (3746573213.py, line 2)",
     "output_type": "error",
     "traceback": [
      "\u001b[0;36m  Cell \u001b[0;32mIn[16], line 2\u001b[0;36m\u001b[0m\n\u001b[0;31m    def times_ten(8):\u001b[0m\n\u001b[0m                  ^\u001b[0m\n\u001b[0;31mSyntaxError\u001b[0m\u001b[0;31m:\u001b[0m invalid syntax\n"
     ]
    }
   ],
   "source": [
    "# get a number to multpiply by 10\n",
    "def times_ten(8):\n",
    "    result = number * 10\n",
    "    # show results\n",
    "    print(result)\n"
   ]
  },
  {
   "cell_type": "markdown",
   "id": "b5646923-e2e2-467f-8233-d036cda52253",
   "metadata": {},
   "source": [
    "forgot the times_ten"
   ]
  },
  {
   "cell_type": "code",
   "execution_count": 18,
   "id": "b68b633b-4588-48e6-9ca5-87a9444fb77c",
   "metadata": {},
   "outputs": [
    {
     "name": "stdout",
     "output_type": "stream",
     "text": [
      "80\n"
     ]
    }
   ],
   "source": [
    "# get a number to multiply by 10\n",
    "def times_ten(number):\n",
    "    result = number * 10\n",
    "    # show results\n",
    "    print(result)\n",
    "times_ten(8)"
   ]
  },
  {
   "cell_type": "code",
   "execution_count": 20,
   "id": "92ea24c9-6223-45ba-afa4-07a9911581f7",
   "metadata": {},
   "outputs": [
    {
     "name": "stdout",
     "output_type": "stream",
     "text": [
      "540\n"
     ]
    }
   ],
   "source": [
    "# get a number to multiply by 10\n",
    "def times_ten(number):\n",
    "    result = number * 10\n",
    "    # show results\n",
    "    print(result)\n",
    "times_ten(54)"
   ]
  },
  {
   "cell_type": "code",
   "execution_count": 20,
   "id": "a7fb241b-b9a6-441e-8d85-260d2b8e9f64",
   "metadata": {},
   "outputs": [
    {
     "name": "stdout",
     "output_type": "stream",
     "text": [
      "540\n"
     ]
    }
   ],
   "source": [
    "# get a number to multiply by 10\n",
    "def times_ten(number):\n",
    "    result = number * 10\n",
    "    # show results\n",
    "    print(result)\n",
    "times_ten(54)"
   ]
  },
  {
   "cell_type": "code",
   "execution_count": 22,
   "id": "091585ea-8c76-495d-9193-2d6270309de6",
   "metadata": {},
   "outputs": [
    {
     "name": "stdout",
     "output_type": "stream",
     "text": [
      "432\n"
     ]
    }
   ],
   "source": [
    "# get a number to multiply by 8\n",
    "def times_ten(number):\n",
    "    result = number * 8\n",
    "    # show results\n",
    "    print(result)\n",
    "times_ten(54)"
   ]
  },
  {
   "cell_type": "markdown",
   "id": "7dcad799-3f65-40c5-b990-69773a60ef1e",
   "metadata": {},
   "source": [
    "## 6. write a statement that generates a random number in the range of 1 - 100 and assigns it to a variable named rand"
   ]
  },
  {
   "cell_type": "markdown",
   "id": "5b29fb06-3553-4258-9b8a-e8bad40efacd",
   "metadata": {},
   "source": [
    "tell python to import random generated number"
   ]
  },
  {
   "cell_type": "code",
   "execution_count": 29,
   "id": "be13161d-aca0-4441-8f61-088fe5f194d8",
   "metadata": {},
   "outputs": [
    {
     "ename": "AttributeError",
     "evalue": "module 'random' has no attribute 'randit'",
     "output_type": "error",
     "traceback": [
      "\u001b[0;31m---------------------------------------------------------------------------\u001b[0m",
      "\u001b[0;31mAttributeError\u001b[0m                            Traceback (most recent call last)",
      "Cell \u001b[0;32mIn[29], line 4\u001b[0m\n\u001b[1;32m      2\u001b[0m \u001b[38;5;28;01mimport\u001b[39;00m \u001b[38;5;21;01mrandom\u001b[39;00m\n\u001b[1;32m      3\u001b[0m \u001b[38;5;66;03m# define rand, generate 1-100\u001b[39;00m\n\u001b[0;32m----> 4\u001b[0m rand \u001b[38;5;241m=\u001b[39m random\u001b[38;5;241m.\u001b[39mrandit(\u001b[38;5;241m1\u001b[39m, \u001b[38;5;241m100\u001b[39m)\n",
      "\u001b[0;31mAttributeError\u001b[0m: module 'random' has no attribute 'randit'"
     ]
    }
   ],
   "source": [
    "# generate random number\n",
    "import random\n",
    "# define rand, generate 1-100\n",
    "rand = random.randit(1, 100)"
   ]
  },
  {
   "cell_type": "markdown",
   "id": "893587c0-7b11-45d6-b153-fa78ea2a9faf",
   "metadata": {},
   "source": [
    "misspelled randint "
   ]
  },
  {
   "cell_type": "code",
   "execution_count": 17,
   "id": "972cc325-c595-4ba2-834d-49735c64c19e",
   "metadata": {},
   "outputs": [
    {
     "name": "stdout",
     "output_type": "stream",
     "text": [
      "40\n"
     ]
    }
   ],
   "source": [
    "import random\n",
    "\n",
    "rand = random.randint(1, 100)\n",
    "# show results\n",
    "print(rand)\n"
   ]
  },
  {
   "cell_type": "code",
   "execution_count": 19,
   "id": "969b0ef4-fa41-4274-89ca-643406bbde1c",
   "metadata": {},
   "outputs": [
    {
     "name": "stdout",
     "output_type": "stream",
     "text": [
      "9\n"
     ]
    }
   ],
   "source": [
    "import random\n",
    "\n",
    "rand = random.randint(1, 100)\n",
    "# show results\n",
    "print(rand)\n"
   ]
  },
  {
   "cell_type": "markdown",
   "id": "09c16c7c-c478-415c-87b9-c7e3d8f58b1f",
   "metadata": {},
   "source": [
    "# 17. Prime Numbers,  write a boolean function named is_prime which takes an integer as an argument and returns true if the argument is a prime number, or false otherwise. use function in a program that prompts user to enter a number then displays whether number is a prime"
   ]
  },
  {
   "cell_type": "code",
   "execution_count": 23,
   "id": "7a518cac-e6c4-4333-b9be-d583cc77d345",
   "metadata": {},
   "outputs": [
    {
     "ename": "SyntaxError",
     "evalue": "cannot assign to expression here. Maybe you meant '==' instead of '='? (3110131474.py, line 13)",
     "output_type": "error",
     "traceback": [
      "\u001b[0;36m  Cell \u001b[0;32mIn[23], line 13\u001b[0;36m\u001b[0m\n\u001b[0;31m    user-num = int(user_input)\u001b[0m\n\u001b[0m    ^\u001b[0m\n\u001b[0;31mSyntaxError\u001b[0m\u001b[0;31m:\u001b[0m cannot assign to expression here. Maybe you meant '==' instead of '='?\n"
     ]
    }
   ],
   "source": [
    "#defining prime number\n",
    "def is_prime(num):\n",
    "    if num <= 1:\n",
    "        return False\n",
    "    for i in range(2,num):\n",
    "        if num % i == 0:\n",
    "            return false\n",
    "        return true\n",
    "\n",
    "# user input number to determine if prime\n",
    "user_input = input('enter a number: ')\n",
    "try:\n",
    "    user-num = int(user_input)\n",
    "    if is_prime(user_num):\n",
    "        print(f'{user_num} is a prime number.')\n",
    "        else:\n",
    "            print(f'{user_num} is not a prime number.')\n",
    "except valueerror:\n",
    "    print('invalid input. please enter a valid integer.')\n",
    "    "
   ]
  }
 ],
 "metadata": {
  "kernelspec": {
   "display_name": "anaconda-panel-2023.05-py310",
   "language": "python",
   "name": "conda-env-anaconda-panel-2023.05-py310-py"
  },
  "language_info": {
   "codemirror_mode": {
    "name": "ipython",
    "version": 3
   },
   "file_extension": ".py",
   "mimetype": "text/x-python",
   "name": "python",
   "nbconvert_exporter": "python",
   "pygments_lexer": "ipython3",
   "version": "3.11.4"
  }
 },
 "nbformat": 4,
 "nbformat_minor": 5
}
